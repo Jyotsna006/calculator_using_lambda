{
 "cells": [
  {
   "cell_type": "code",
   "execution_count": 2,
   "id": "72650138-40e7-4c32-9dcd-2d23e763fa07",
   "metadata": {},
   "outputs": [
    {
     "name": "stdin",
     "output_type": "stream",
     "text": [
      "enter first number 1\n",
      "enter second number 2\n",
      "enter the opperator +\n"
     ]
    },
    {
     "name": "stdout",
     "output_type": "stream",
     "text": [
      "3\n"
     ]
    }
   ],
   "source": [
    "## calculator using lambda \n",
    "\n",
    "def calculator(x,y,opp):\n",
    "    a=lambda x,y:x+y\n",
    "    b=lambda x,y:x-y\n",
    "    c=lambda x,y:x*y\n",
    "    d=lambda x,y:x/y\n",
    "    if opp==\"+\":\n",
    "        return a(x,y)\n",
    "    elif opp==\"-\":\n",
    "        return b(x,y)\n",
    "    elif opp==\"*\":\n",
    "        return c(x,y)\n",
    "    elif opp==\"/\":\n",
    "        return d(x,y)\n",
    "    else:\n",
    "        return \"invalid\"\n",
    "x=int(input(\"enter first number\"))\n",
    "y=int(input(\"enter second number\"))\n",
    "opp=input(\"enter the opperator\")\n",
    "print(calculator(x,y,opp)) "
   ]
  },
  {
   "cell_type": "code",
   "execution_count": null,
   "id": "35a7eec8-5fa0-463e-948c-009b228f925c",
   "metadata": {},
   "outputs": [],
   "source": []
  }
 ],
 "metadata": {
  "kernelspec": {
   "display_name": "Python [conda env:base] *",
   "language": "python",
   "name": "conda-base-py"
  },
  "language_info": {
   "codemirror_mode": {
    "name": "ipython",
    "version": 3
   },
   "file_extension": ".py",
   "mimetype": "text/x-python",
   "name": "python",
   "nbconvert_exporter": "python",
   "pygments_lexer": "ipython3",
   "version": "3.12.7"
  }
 },
 "nbformat": 4,
 "nbformat_minor": 5
}
